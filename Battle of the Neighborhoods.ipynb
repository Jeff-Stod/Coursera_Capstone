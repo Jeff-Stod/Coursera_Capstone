{
    "cells": [
        {
            "metadata": {
                "collapsed": true
            },
            "cell_type": "markdown",
            "source": "# Battle of the Neighborhoods"
        },
        {
            "metadata": {},
            "cell_type": "markdown",
            "source": "### Coursera Captone Project"
        },
        {
            "metadata": {},
            "cell_type": "markdown",
            "source": "## Introduction"
        },
        {
            "metadata": {},
            "cell_type": "markdown",
            "source": "As someone who will be moving to New Your City and is an avid coffee drinker it is very important to move to an area with a lot of coffe shops nearby.  In this project I will be comparing differenc areas of New York to determine which area has the best options avaialbe for a varity of coffee shops."
        },
        {
            "metadata": {},
            "cell_type": "markdown",
            "source": "## Data"
        },
        {
            "metadata": {},
            "cell_type": "markdown",
            "source": "In order to answer the above questions, data on New York City neighborhoods, boroughs to include boundaries, latitude, longitude, restaurants, and restaurant ratings and tips are required.\n\nNew York City data containing the neighborhoods and boroughs, latitudes, and longitudes will be obtained from the data source: https://cocl.us/new_york_dataset\n\nNew York City data containing neighborhood boundaries will be obtained from the data source: https://data.cityofnewyork.us/City-Government/Borough-Boundaries/tqmj-j8zm\n\nAll data related to locations and quality of  coffee shops will be obtained via the FourSquare API utilized via the Request library in Python"
        },
        {
            "metadata": {},
            "cell_type": "code",
            "source": "",
            "execution_count": null,
            "outputs": []
        }
    ],
    "metadata": {
        "kernelspec": {
            "name": "python3",
            "display_name": "Python 3.7",
            "language": "python"
        },
        "language_info": {
            "name": "python",
            "version": "3.7.9",
            "mimetype": "text/x-python",
            "codemirror_mode": {
                "name": "ipython",
                "version": 3
            },
            "pygments_lexer": "ipython3",
            "nbconvert_exporter": "python",
            "file_extension": ".py"
        }
    },
    "nbformat": 4,
    "nbformat_minor": 1
}